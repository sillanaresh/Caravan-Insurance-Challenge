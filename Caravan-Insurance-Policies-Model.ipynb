{
 "cells": [
  {
   "cell_type": "code",
   "execution_count": 21,
   "metadata": {},
   "outputs": [],
   "source": [
    "import pandas as pd\n",
    "import numpy as np\n",
    "from sklearn.linear_model import LogisticRegression\n",
    "from sklearn.metrics import f1_score,confusion_matrix,accuracy_score,cohen_kappa_score\n",
    "from sklearn.model_selection import train_test_split,cross_val_score\n",
    "from sklearn.utils import resample"
   ]
  },
  {
   "cell_type": "code",
   "execution_count": 5,
   "metadata": {},
   "outputs": [],
   "source": [
    "data = pd.read_csv(r\"C:\\Users\\Silla Naresh\\Desktop\\caravan-insurance-challenge\\caravan-insurance-challenge.csv\")\n"
   ]
  },
  {
   "cell_type": "code",
   "execution_count": 6,
   "metadata": {},
   "outputs": [
    {
     "data": {
      "text/plain": [
       "(9822, 87)"
      ]
     },
     "execution_count": 6,
     "metadata": {},
     "output_type": "execute_result"
    }
   ],
   "source": [
    "data.shape"
   ]
  },
  {
   "cell_type": "code",
   "execution_count": 7,
   "metadata": {},
   "outputs": [
    {
     "data": {
      "text/plain": [
       "0.059661983302789656"
      ]
     },
     "execution_count": 7,
     "metadata": {},
     "output_type": "execute_result"
    }
   ],
   "source": [
    "data[data[\"CARAVAN\"]==1].iloc[:,0].count()/data.iloc[:,0].count()"
   ]
  },
  {
   "cell_type": "code",
   "execution_count": 8,
   "metadata": {},
   "outputs": [],
   "source": [
    "train =data.iloc[1:5822,:]\n",
    "test = data.iloc[5823:,:]"
   ]
  },
  {
   "cell_type": "code",
   "execution_count": 9,
   "metadata": {},
   "outputs": [],
   "source": [
    "x =['MOSTYPE','MAANTHUI',\n",
    " 'MGEMOMV',\n",
    " 'MGEMLEEF',\n",
    " 'MOSHOOFD',\n",
    " 'MGODRK',\n",
    " 'MGODPR',\n",
    " 'MGODOV',\n",
    " 'MGODGE',\n",
    " 'MRELGE',\n",
    " 'MRELSA',\n",
    " 'MRELOV',\n",
    " 'MFALLEEN',\n",
    " 'MFGEKIND',\n",
    " 'MFWEKIND',\n",
    " 'MOPLHOOG',\n",
    " 'MOPLMIDD',\n",
    " 'MOPLLAAG',\n",
    " 'MBERHOOG',\n",
    " 'MBERZELF',\n",
    " 'MBERBOER',\n",
    " 'MBERMIDD',\n",
    " 'MBERARBG',\n",
    " 'MBERARBO',\n",
    " 'MSKA',\n",
    " 'MSKB1',\n",
    " 'MSKB2',\n",
    " 'MSKC',\n",
    " 'MSKD',\n",
    " 'MHHUUR',\n",
    " 'MHKOOP',\n",
    " 'MAUT1',\n",
    " 'MAUT2',\n",
    " 'MAUT0',\n",
    " 'MZFONDS',\n",
    " 'MZPART',\n",
    " 'MINKM30',\n",
    " 'MINK3045',\n",
    " 'MINK4575',\n",
    " 'MINK7512',\n",
    " 'MINK123M',\n",
    " 'MINKGEM',\n",
    " 'MKOOPKLA',\n",
    " 'PWAPART',\n",
    " 'PWABEDR',\n",
    " 'PWALAND',\n",
    " 'PPERSAUT',\n",
    " 'PBESAUT',\n",
    " 'PMOTSCO',\n",
    " 'PVRAAUT',\n",
    " 'PAANHANG',\n",
    " 'PTRACTOR',\n",
    " 'PWERKT',\n",
    " 'PBROM',\n",
    " 'PLEVEN',\n",
    " 'PPERSONG',\n",
    " 'PGEZONG',\n",
    " 'PWAOREG',\n",
    " 'PBRAND',\n",
    " 'PZEILPL',\n",
    " 'PPLEZIER',\n",
    " 'PFIETS',\n",
    " 'PINBOED',\n",
    " 'PBYSTAND',\n",
    " 'AWAPART',\n",
    " 'AWABEDR',\n",
    " 'AWALAND',\n",
    " 'APERSAUT',\n",
    " 'ABESAUT',\n",
    " 'AMOTSCO',\n",
    " 'AVRAAUT',\n",
    " 'AAANHANG',\n",
    " 'ATRACTOR',\n",
    " 'AWERKT',\n",
    " 'ABROM',\n",
    " 'ALEVEN',\n",
    " 'APERSONG',\n",
    " 'AGEZONG',\n",
    " 'AWAOREG',\n",
    " 'ABRAND',\n",
    " 'AZEILPL',\n",
    " 'APLEZIER',\n",
    " 'AFIETS',\n",
    " 'AINBOED',\n",
    " 'ABYSTAND']"
   ]
  },
  {
   "cell_type": "code",
   "execution_count": 10,
   "metadata": {},
   "outputs": [],
   "source": [
    "def calc_iv(df, feature, target, pr=0):\n",
    "\n",
    "    lst = []\n",
    "\n",
    "    for i in range(df[feature].nunique()):\n",
    "        val = list(df[feature].unique())[i]\n",
    "        lst.append([feature, val, df[(df[feature] == val) & (df[target] == 0)].count()[feature], df[(df[feature] == val) & (df[target] == 1)].count()[feature]])\n",
    "    \n",
    "    data = pd.DataFrame(lst, columns=['Variable', 'Value', 'Good', 'Bad'])\n",
    "    data = data[data['Bad'] > 0]\n",
    "\n",
    "    data['Good Rate'] = data['Good'] / data['Good'].sum()\n",
    "    data['Bad Rate'] = data['Bad'] / data['Bad'].sum()\n",
    "    data['Distribution'] = (data['Good Rate'] - data['Bad Rate']) \n",
    "   \n",
    "    data['WoE'] = np.log(data['Good Rate'] / data['Bad Rate'])\n",
    "    data['IV'] = (data['WoE'] * (data['Distribution'])).sum()\n",
    "\n",
    "    data = data.sort_values(by=['Variable', 'Value'], ascending=True)\n",
    "\n",
    "    if pr == 1:\n",
    "        print(data)\n",
    "\n",
    "    return data['IV'].values[0]\n",
    "    "
   ]
  },
  {
   "cell_type": "code",
   "execution_count": 11,
   "metadata": {},
   "outputs": [],
   "source": [
    "z = []\n",
    "for i in  range(0,len(x)):\n",
    "    \n",
    "     z.append(calc_iv(train, x[i],'CARAVAN'))"
   ]
  },
  {
   "cell_type": "code",
   "execution_count": 12,
   "metadata": {},
   "outputs": [
    {
     "data": {
      "text/plain": [
       "[0.3213751813950453,\n",
       " 0.0007346871620147902,\n",
       " 0.03422872286296251,\n",
       " 0.017849675793993137,\n",
       " 0.2612448541025786,\n",
       " 0.03036948447022352,\n",
       " 0.06936235652429497,\n",
       " 0.03755662472722519,\n",
       " 0.06577416141044545,\n",
       " 0.12152575707158976,\n",
       " 0.02641606980898759,\n",
       " 0.10390314550369514,\n",
       " 0.05947181733872561,\n",
       " 0.0191623480438789,\n",
       " 0.04043540780707397,\n",
       " 0.12256159190535233,\n",
       " 0.054130701983523336,\n",
       " 0.16909317027548298,\n",
       " 0.09271481240584496,\n",
       " 0.012848473041037915,\n",
       " 0.07277206198109536,\n",
       " 0.06093336415162259,\n",
       " 0.09560778230206628,\n",
       " 0.06556822463591445,\n",
       " 0.1107964290304866,\n",
       " 0.04383235283384641,\n",
       " 0.009885965390985307,\n",
       " 0.09580118423956353,\n",
       " 0.10843579791284452,\n",
       " 0.14479265091201363,\n",
       " 0.14314978410735255,\n",
       " 0.11643792648433386,\n",
       " 0.0040591263446180395,\n",
       " 0.14398922708428055,\n",
       " 0.07294839010796046,\n",
       " 0.06918673273323918,\n",
       " 0.16429838139119377,\n",
       " 0.017902455898783223,\n",
       " 0.12150149854264904,\n",
       " 0.07503166630042474,\n",
       " 0.006760411004750566,\n",
       " 0.2193418579641816,\n",
       " 0.20701652291829295,\n",
       " 0.16428883255316318,\n",
       " 0.004317665935919208,\n",
       " 0.013027079441450333,\n",
       " 0.6025064035470287,\n",
       " 1.5036610770115911e-05,\n",
       " 0.031296355313767045,\n",
       " 0.0,\n",
       " 0.0073410359001916115,\n",
       " 0.00871415745868577,\n",
       " 0.0,\n",
       " 0.040512199226496716,\n",
       " 0.017181804074428323,\n",
       " 1.930777877742369e-05,\n",
       " 0.019767357815603855,\n",
       " 0.012617129826906165,\n",
       " 0.44331270203146106,\n",
       " 0.007420976049404774,\n",
       " 0.09003889802367432,\n",
       " 0.011396230628811614,\n",
       " 0.009373736668865271,\n",
       " 0.048529235156752074,\n",
       " 0.14235379611628554,\n",
       " 1.6469033673120683e-05,\n",
       " 0.011750882156728938,\n",
       " 0.43807911732677335,\n",
       " 0.0002312744310653916,\n",
       " 0.002109929316262084,\n",
       " 0.0,\n",
       " 0.004402833587949848,\n",
       " 0.004710199223460446,\n",
       " 0.0,\n",
       " 0.051882098721970644,\n",
       " 0.03153451151901365,\n",
       " 0.0016910518466144687,\n",
       " 0.012453396106451775,\n",
       " 0.012617129826906165,\n",
       " 0.10455189716179922,\n",
       " 0.005178654246343015,\n",
       " 0.07977094208107384,\n",
       " 0.01679268544887899,\n",
       " 0.00512920358173178,\n",
       " 0.04734611949909933]"
      ]
     },
     "execution_count": 12,
     "metadata": {},
     "output_type": "execute_result"
    }
   ],
   "source": [
    "z"
   ]
  },
  {
   "cell_type": "code",
   "execution_count": 13,
   "metadata": {},
   "outputs": [
    {
     "name": "stdout",
     "output_type": "stream",
     "text": [
      "0\n",
      "4\n",
      "9\n",
      "11\n",
      "15\n",
      "17\n",
      "24\n",
      "28\n",
      "29\n",
      "30\n",
      "31\n",
      "33\n",
      "36\n",
      "38\n",
      "41\n",
      "42\n",
      "43\n",
      "58\n",
      "64\n",
      "67\n",
      "79\n"
     ]
    }
   ],
   "source": [
    "feature_index =[]\n",
    "\n",
    "for i in range(len(z)):\n",
    "    if z[i]> 0.1 and z[i]< 0.5:\n",
    "        print(i)\n",
    "        feature_index.append(i)"
   ]
  },
  {
   "cell_type": "code",
   "execution_count": 14,
   "metadata": {},
   "outputs": [
    {
     "data": {
      "text/plain": [
       "Index(['ORIGIN', 'MGEMLEEF', 'MGODGE', 'MRELSA', 'MFWEKIND', 'MOPLMIDD',\n",
       "       'MBERARBO', 'MSKC', 'MSKD', 'MHHUUR', 'MHKOOP', 'MAUT2', 'MZPART',\n",
       "       'MINK3045', 'MINK123M', 'MINKGEM', 'MKOOPKLA', 'PWAOREG', 'PBYSTAND',\n",
       "       'AWALAND', 'AWAOREG'],\n",
       "      dtype='object')"
      ]
     },
     "execution_count": 14,
     "metadata": {},
     "output_type": "execute_result"
    }
   ],
   "source": [
    "new = train.iloc[:,feature_index]\n",
    "new.columns"
   ]
  },
  {
   "cell_type": "code",
   "execution_count": 15,
   "metadata": {},
   "outputs": [
    {
     "data": {
      "text/html": [
       "<div>\n",
       "<style scoped>\n",
       "    .dataframe tbody tr th:only-of-type {\n",
       "        vertical-align: middle;\n",
       "    }\n",
       "\n",
       "    .dataframe tbody tr th {\n",
       "        vertical-align: top;\n",
       "    }\n",
       "\n",
       "    .dataframe thead th {\n",
       "        text-align: right;\n",
       "    }\n",
       "</style>\n",
       "<table border=\"1\" class=\"dataframe\">\n",
       "  <thead>\n",
       "    <tr style=\"text-align: right;\">\n",
       "      <th></th>\n",
       "      <th>MGEMLEEF</th>\n",
       "      <th>MGODGE</th>\n",
       "      <th>MRELSA</th>\n",
       "      <th>MFWEKIND</th>\n",
       "      <th>MOPLMIDD</th>\n",
       "      <th>MBERARBO</th>\n",
       "      <th>MSKC</th>\n",
       "      <th>MSKD</th>\n",
       "      <th>MHHUUR</th>\n",
       "      <th>MHKOOP</th>\n",
       "      <th>MAUT2</th>\n",
       "      <th>MZPART</th>\n",
       "      <th>MINK3045</th>\n",
       "      <th>MINK123M</th>\n",
       "      <th>MINKGEM</th>\n",
       "      <th>MKOOPKLA</th>\n",
       "      <th>PWAOREG</th>\n",
       "      <th>PBYSTAND</th>\n",
       "      <th>AWALAND</th>\n",
       "      <th>AWAOREG</th>\n",
       "    </tr>\n",
       "  </thead>\n",
       "  <tbody>\n",
       "    <tr>\n",
       "      <th>1</th>\n",
       "      <td>2</td>\n",
       "      <td>4</td>\n",
       "      <td>2</td>\n",
       "      <td>5</td>\n",
       "      <td>5</td>\n",
       "      <td>4</td>\n",
       "      <td>5</td>\n",
       "      <td>0</td>\n",
       "      <td>2</td>\n",
       "      <td>7</td>\n",
       "      <td>1</td>\n",
       "      <td>3</td>\n",
       "      <td>0</td>\n",
       "      <td>0</td>\n",
       "      <td>5</td>\n",
       "      <td>4</td>\n",
       "      <td>0</td>\n",
       "      <td>0</td>\n",
       "      <td>0</td>\n",
       "      <td>0</td>\n",
       "    </tr>\n",
       "    <tr>\n",
       "      <th>2</th>\n",
       "      <td>2</td>\n",
       "      <td>4</td>\n",
       "      <td>2</td>\n",
       "      <td>2</td>\n",
       "      <td>5</td>\n",
       "      <td>2</td>\n",
       "      <td>4</td>\n",
       "      <td>0</td>\n",
       "      <td>7</td>\n",
       "      <td>2</td>\n",
       "      <td>0</td>\n",
       "      <td>0</td>\n",
       "      <td>5</td>\n",
       "      <td>0</td>\n",
       "      <td>3</td>\n",
       "      <td>4</td>\n",
       "      <td>0</td>\n",
       "      <td>0</td>\n",
       "      <td>0</td>\n",
       "      <td>0</td>\n",
       "    </tr>\n",
       "    <tr>\n",
       "      <th>3</th>\n",
       "      <td>3</td>\n",
       "      <td>4</td>\n",
       "      <td>2</td>\n",
       "      <td>4</td>\n",
       "      <td>4</td>\n",
       "      <td>2</td>\n",
       "      <td>4</td>\n",
       "      <td>0</td>\n",
       "      <td>5</td>\n",
       "      <td>4</td>\n",
       "      <td>0</td>\n",
       "      <td>2</td>\n",
       "      <td>5</td>\n",
       "      <td>0</td>\n",
       "      <td>4</td>\n",
       "      <td>4</td>\n",
       "      <td>0</td>\n",
       "      <td>0</td>\n",
       "      <td>0</td>\n",
       "      <td>0</td>\n",
       "    </tr>\n",
       "    <tr>\n",
       "      <th>4</th>\n",
       "      <td>2</td>\n",
       "      <td>4</td>\n",
       "      <td>1</td>\n",
       "      <td>4</td>\n",
       "      <td>4</td>\n",
       "      <td>0</td>\n",
       "      <td>0</td>\n",
       "      <td>0</td>\n",
       "      <td>4</td>\n",
       "      <td>5</td>\n",
       "      <td>2</td>\n",
       "      <td>4</td>\n",
       "      <td>0</td>\n",
       "      <td>0</td>\n",
       "      <td>6</td>\n",
       "      <td>3</td>\n",
       "      <td>0</td>\n",
       "      <td>0</td>\n",
       "      <td>0</td>\n",
       "      <td>0</td>\n",
       "    </tr>\n",
       "    <tr>\n",
       "      <th>5</th>\n",
       "      <td>1</td>\n",
       "      <td>5</td>\n",
       "      <td>6</td>\n",
       "      <td>2</td>\n",
       "      <td>5</td>\n",
       "      <td>2</td>\n",
       "      <td>4</td>\n",
       "      <td>2</td>\n",
       "      <td>9</td>\n",
       "      <td>0</td>\n",
       "      <td>3</td>\n",
       "      <td>0</td>\n",
       "      <td>2</td>\n",
       "      <td>0</td>\n",
       "      <td>3</td>\n",
       "      <td>3</td>\n",
       "      <td>0</td>\n",
       "      <td>0</td>\n",
       "      <td>0</td>\n",
       "      <td>0</td>\n",
       "    </tr>\n",
       "  </tbody>\n",
       "</table>\n",
       "</div>"
      ],
      "text/plain": [
       "   MGEMLEEF  MGODGE  MRELSA  MFWEKIND  MOPLMIDD  MBERARBO  MSKC  MSKD  MHHUUR  \\\n",
       "1         2       4       2         5         5         4     5     0       2   \n",
       "2         2       4       2         2         5         2     4     0       7   \n",
       "3         3       4       2         4         4         2     4     0       5   \n",
       "4         2       4       1         4         4         0     0     0       4   \n",
       "5         1       5       6         2         5         2     4     2       9   \n",
       "\n",
       "   MHKOOP  MAUT2  MZPART  MINK3045  MINK123M  MINKGEM  MKOOPKLA  PWAOREG  \\\n",
       "1       7      1       3         0         0        5         4        0   \n",
       "2       2      0       0         5         0        3         4        0   \n",
       "3       4      0       2         5         0        4         4        0   \n",
       "4       5      2       4         0         0        6         3        0   \n",
       "5       0      3       0         2         0        3         3        0   \n",
       "\n",
       "   PBYSTAND  AWALAND  AWAOREG  \n",
       "1         0        0        0  \n",
       "2         0        0        0  \n",
       "3         0        0        0  \n",
       "4         0        0        0  \n",
       "5         0        0        0  "
      ]
     },
     "execution_count": 15,
     "metadata": {},
     "output_type": "execute_result"
    }
   ],
   "source": [
    "new = new.iloc[:,1:]\n",
    "new.head()"
   ]
  },
  {
   "cell_type": "code",
   "execution_count": 16,
   "metadata": {},
   "outputs": [],
   "source": [
    "logit = LogisticRegression()"
   ]
  },
  {
   "cell_type": "code",
   "execution_count": 17,
   "metadata": {},
   "outputs": [],
   "source": [
    "train_x,test_x,train_y,test_y = train_test_split(new,train.iloc[:,86],test_size = 0.3,random_state = 27)"
   ]
  },
  {
   "cell_type": "code",
   "execution_count": 18,
   "metadata": {},
   "outputs": [
    {
     "data": {
      "text/plain": [
       "LogisticRegression(C=1.0, class_weight=None, dual=False, fit_intercept=True,\n",
       "          intercept_scaling=1, max_iter=100, multi_class='ovr', n_jobs=1,\n",
       "          penalty='l2', random_state=None, solver='liblinear', tol=0.0001,\n",
       "          verbose=0, warm_start=False)"
      ]
     },
     "execution_count": 18,
     "metadata": {},
     "output_type": "execute_result"
    }
   ],
   "source": [
    "logit.fit(train_x, train_y)"
   ]
  },
  {
   "cell_type": "code",
   "execution_count": 19,
   "metadata": {},
   "outputs": [
    {
     "data": {
      "text/plain": [
       "array([0.94481236, 0.9455081 , 0.94546794])"
      ]
     },
     "execution_count": 19,
     "metadata": {},
     "output_type": "execute_result"
    }
   ],
   "source": [
    "cross_val_score(estimator = logit,X=train_x,y=train_y,cv=3,n_jobs=-1)"
   ]
  },
  {
   "cell_type": "code",
   "execution_count": 20,
   "metadata": {},
   "outputs": [
    {
     "data": {
      "text/plain": [
       "1747"
      ]
     },
     "execution_count": 20,
     "metadata": {},
     "output_type": "execute_result"
    }
   ],
   "source": [
    "c = logit.predict(test_x)\n",
    "len(c)"
   ]
  },
  {
   "cell_type": "code",
   "execution_count": 22,
   "metadata": {},
   "outputs": [
    {
     "name": "stderr",
     "output_type": "stream",
     "text": [
      "C:\\Users\\Silla Naresh\\Anaconda3\\lib\\site-packages\\sklearn\\metrics\\classification.py:1137: UndefinedMetricWarning: F-score is ill-defined and being set to 0.0 due to no true samples.\n",
      "  'recall', 'true', average, warn_for)\n"
     ]
    },
    {
     "data": {
      "text/plain": [
       "(0.0, 0.9284487693188322, 0.0)"
      ]
     },
     "execution_count": 22,
     "metadata": {},
     "output_type": "execute_result"
    }
   ],
   "source": [
    "f1_score(c,test_y), accuracy_score(c,test_y),cohen_kappa_score(c,test_y)"
   ]
  },
  {
   "cell_type": "code",
   "execution_count": 23,
   "metadata": {},
   "outputs": [
    {
     "data": {
      "text/plain": [
       "array([[1622,  125],\n",
       "       [   0,    0]], dtype=int64)"
      ]
     },
     "execution_count": 23,
     "metadata": {},
     "output_type": "execute_result"
    }
   ],
   "source": [
    "confusion_matrix(c,test_y)"
   ]
  },
  {
   "cell_type": "code",
   "execution_count": 24,
   "metadata": {},
   "outputs": [],
   "source": [
    "test_new = test.iloc[:,feature_index]\n",
    "test_new = test_new.iloc[:,1:]"
   ]
  },
  {
   "cell_type": "code",
   "execution_count": 25,
   "metadata": {},
   "outputs": [],
   "source": [
    "c= logit.predict(test_new)"
   ]
  },
  {
   "cell_type": "code",
   "execution_count": 26,
   "metadata": {},
   "outputs": [
    {
     "data": {
      "text/plain": [
       "array([[3761,  238],\n",
       "       [   0,    0]], dtype=int64)"
      ]
     },
     "execution_count": 26,
     "metadata": {},
     "output_type": "execute_result"
    }
   ],
   "source": [
    "confusion_matrix(c,test.iloc[:,86])"
   ]
  },
  {
   "cell_type": "code",
   "execution_count": 28,
   "metadata": {},
   "outputs": [],
   "source": [
    "not_taken =train[train[\"CARAVAN\"]==0]\n",
    "taken = train[train[\"CARAVAN\"]==1]\n",
    "\n",
    "# upsample minority\n",
    "upsampled = resample(taken,\n",
    "                          replace=True, # sample with replacement\n",
    "                          n_samples=len(not_taken), # match number in majority class\n",
    "                          random_state=27) # reproducible results"
   ]
  },
  {
   "cell_type": "code",
   "execution_count": 29,
   "metadata": {},
   "outputs": [],
   "source": [
    "not_taken_test =test[test[\"CARAVAN\"]==0]\n",
    "taken_test = test[test[\"CARAVAN\"]==1]\n",
    "\n",
    "# upsample minority\n",
    "\n",
    "upsampled_test = resample(taken,\n",
    "                          replace=True, # sample with replacement\n",
    "                          n_samples=len(not_taken_test), # match number in majority class\n",
    "                          random_state=27) # reproducible results"
   ]
  },
  {
   "cell_type": "code",
   "execution_count": 30,
   "metadata": {},
   "outputs": [
    {
     "data": {
      "text/plain": [
       "((5473, 87), (5473, 87))"
      ]
     },
     "execution_count": 30,
     "metadata": {},
     "output_type": "execute_result"
    }
   ],
   "source": [
    "upsampled = pd.concat([not_taken, upsampled])\n",
    "upsampled[upsampled[\"CARAVAN\"]==0].shape,upsampled[upsampled[\"CARAVAN\"]==1].shape"
   ]
  },
  {
   "cell_type": "code",
   "execution_count": 31,
   "metadata": {},
   "outputs": [
    {
     "data": {
      "text/plain": [
       "((3761, 87), (3761, 87))"
      ]
     },
     "execution_count": 31,
     "metadata": {},
     "output_type": "execute_result"
    }
   ],
   "source": [
    "upsampled_test = pd.concat([not_taken_test, upsampled_test])\n",
    "upsampled_test[upsampled_test[\"CARAVAN\"]==0].shape,upsampled_test[upsampled_test[\"CARAVAN\"]==1].shape"
   ]
  },
  {
   "cell_type": "code",
   "execution_count": 32,
   "metadata": {},
   "outputs": [
    {
     "data": {
      "text/plain": [
       "Index(['ORIGIN', 'MGEMLEEF', 'MGODGE', 'MRELSA', 'MFWEKIND', 'MOPLMIDD',\n",
       "       'MBERARBO', 'MSKC', 'MSKD', 'MHHUUR', 'MHKOOP', 'MAUT2', 'MZPART',\n",
       "       'MINK3045', 'MINK123M', 'MINKGEM', 'MKOOPKLA', 'PWAOREG', 'PBYSTAND',\n",
       "       'AWALAND', 'AWAOREG'],\n",
       "      dtype='object')"
      ]
     },
     "execution_count": 32,
     "metadata": {},
     "output_type": "execute_result"
    }
   ],
   "source": [
    "new = upsampled.iloc[:,feature_index]\n",
    "new.shape\n",
    "new.columns"
   ]
  },
  {
   "cell_type": "code",
   "execution_count": 33,
   "metadata": {},
   "outputs": [
    {
     "data": {
      "text/html": [
       "<div>\n",
       "<style scoped>\n",
       "    .dataframe tbody tr th:only-of-type {\n",
       "        vertical-align: middle;\n",
       "    }\n",
       "\n",
       "    .dataframe tbody tr th {\n",
       "        vertical-align: top;\n",
       "    }\n",
       "\n",
       "    .dataframe thead th {\n",
       "        text-align: right;\n",
       "    }\n",
       "</style>\n",
       "<table border=\"1\" class=\"dataframe\">\n",
       "  <thead>\n",
       "    <tr style=\"text-align: right;\">\n",
       "      <th></th>\n",
       "      <th>MGEMLEEF</th>\n",
       "      <th>MGODGE</th>\n",
       "      <th>MRELSA</th>\n",
       "      <th>MFWEKIND</th>\n",
       "      <th>MOPLMIDD</th>\n",
       "      <th>MBERARBO</th>\n",
       "      <th>MSKC</th>\n",
       "      <th>MSKD</th>\n",
       "      <th>MHHUUR</th>\n",
       "      <th>MHKOOP</th>\n",
       "      <th>MAUT2</th>\n",
       "      <th>MZPART</th>\n",
       "      <th>MINK3045</th>\n",
       "      <th>MINK123M</th>\n",
       "      <th>MINKGEM</th>\n",
       "      <th>MKOOPKLA</th>\n",
       "      <th>PWAOREG</th>\n",
       "      <th>PBYSTAND</th>\n",
       "      <th>AWALAND</th>\n",
       "      <th>AWAOREG</th>\n",
       "    </tr>\n",
       "  </thead>\n",
       "  <tbody>\n",
       "    <tr>\n",
       "      <th>1</th>\n",
       "      <td>2</td>\n",
       "      <td>4</td>\n",
       "      <td>2</td>\n",
       "      <td>5</td>\n",
       "      <td>5</td>\n",
       "      <td>4</td>\n",
       "      <td>5</td>\n",
       "      <td>0</td>\n",
       "      <td>2</td>\n",
       "      <td>7</td>\n",
       "      <td>1</td>\n",
       "      <td>3</td>\n",
       "      <td>0</td>\n",
       "      <td>0</td>\n",
       "      <td>5</td>\n",
       "      <td>4</td>\n",
       "      <td>0</td>\n",
       "      <td>0</td>\n",
       "      <td>0</td>\n",
       "      <td>0</td>\n",
       "    </tr>\n",
       "    <tr>\n",
       "      <th>2</th>\n",
       "      <td>2</td>\n",
       "      <td>4</td>\n",
       "      <td>2</td>\n",
       "      <td>2</td>\n",
       "      <td>5</td>\n",
       "      <td>2</td>\n",
       "      <td>4</td>\n",
       "      <td>0</td>\n",
       "      <td>7</td>\n",
       "      <td>2</td>\n",
       "      <td>0</td>\n",
       "      <td>0</td>\n",
       "      <td>5</td>\n",
       "      <td>0</td>\n",
       "      <td>3</td>\n",
       "      <td>4</td>\n",
       "      <td>0</td>\n",
       "      <td>0</td>\n",
       "      <td>0</td>\n",
       "      <td>0</td>\n",
       "    </tr>\n",
       "    <tr>\n",
       "      <th>3</th>\n",
       "      <td>3</td>\n",
       "      <td>4</td>\n",
       "      <td>2</td>\n",
       "      <td>4</td>\n",
       "      <td>4</td>\n",
       "      <td>2</td>\n",
       "      <td>4</td>\n",
       "      <td>0</td>\n",
       "      <td>5</td>\n",
       "      <td>4</td>\n",
       "      <td>0</td>\n",
       "      <td>2</td>\n",
       "      <td>5</td>\n",
       "      <td>0</td>\n",
       "      <td>4</td>\n",
       "      <td>4</td>\n",
       "      <td>0</td>\n",
       "      <td>0</td>\n",
       "      <td>0</td>\n",
       "      <td>0</td>\n",
       "    </tr>\n",
       "    <tr>\n",
       "      <th>4</th>\n",
       "      <td>2</td>\n",
       "      <td>4</td>\n",
       "      <td>1</td>\n",
       "      <td>4</td>\n",
       "      <td>4</td>\n",
       "      <td>0</td>\n",
       "      <td>0</td>\n",
       "      <td>0</td>\n",
       "      <td>4</td>\n",
       "      <td>5</td>\n",
       "      <td>2</td>\n",
       "      <td>4</td>\n",
       "      <td>0</td>\n",
       "      <td>0</td>\n",
       "      <td>6</td>\n",
       "      <td>3</td>\n",
       "      <td>0</td>\n",
       "      <td>0</td>\n",
       "      <td>0</td>\n",
       "      <td>0</td>\n",
       "    </tr>\n",
       "    <tr>\n",
       "      <th>5</th>\n",
       "      <td>1</td>\n",
       "      <td>5</td>\n",
       "      <td>6</td>\n",
       "      <td>2</td>\n",
       "      <td>5</td>\n",
       "      <td>2</td>\n",
       "      <td>4</td>\n",
       "      <td>2</td>\n",
       "      <td>9</td>\n",
       "      <td>0</td>\n",
       "      <td>3</td>\n",
       "      <td>0</td>\n",
       "      <td>2</td>\n",
       "      <td>0</td>\n",
       "      <td>3</td>\n",
       "      <td>3</td>\n",
       "      <td>0</td>\n",
       "      <td>0</td>\n",
       "      <td>0</td>\n",
       "      <td>0</td>\n",
       "    </tr>\n",
       "  </tbody>\n",
       "</table>\n",
       "</div>"
      ],
      "text/plain": [
       "   MGEMLEEF  MGODGE  MRELSA  MFWEKIND  MOPLMIDD  MBERARBO  MSKC  MSKD  MHHUUR  \\\n",
       "1         2       4       2         5         5         4     5     0       2   \n",
       "2         2       4       2         2         5         2     4     0       7   \n",
       "3         3       4       2         4         4         2     4     0       5   \n",
       "4         2       4       1         4         4         0     0     0       4   \n",
       "5         1       5       6         2         5         2     4     2       9   \n",
       "\n",
       "   MHKOOP  MAUT2  MZPART  MINK3045  MINK123M  MINKGEM  MKOOPKLA  PWAOREG  \\\n",
       "1       7      1       3         0         0        5         4        0   \n",
       "2       2      0       0         5         0        3         4        0   \n",
       "3       4      0       2         5         0        4         4        0   \n",
       "4       5      2       4         0         0        6         3        0   \n",
       "5       0      3       0         2         0        3         3        0   \n",
       "\n",
       "   PBYSTAND  AWALAND  AWAOREG  \n",
       "1         0        0        0  \n",
       "2         0        0        0  \n",
       "3         0        0        0  \n",
       "4         0        0        0  \n",
       "5         0        0        0  "
      ]
     },
     "execution_count": 33,
     "metadata": {},
     "output_type": "execute_result"
    }
   ],
   "source": [
    "new = new.iloc[:,1:]\n",
    "new.head()"
   ]
  },
  {
   "cell_type": "code",
   "execution_count": 36,
   "metadata": {},
   "outputs": [
    {
     "data": {
      "text/plain": [
       "(10946, 20)"
      ]
     },
     "execution_count": 36,
     "metadata": {},
     "output_type": "execute_result"
    }
   ],
   "source": [
    "new.shape"
   ]
  },
  {
   "cell_type": "code",
   "execution_count": 37,
   "metadata": {},
   "outputs": [],
   "source": [
    "train_x,test_x,train_y,test_y = train_test_split(new,upsampled.iloc[:,86],test_size = 0.3,random_state = 27)"
   ]
  },
  {
   "cell_type": "code",
   "execution_count": 38,
   "metadata": {},
   "outputs": [
    {
     "data": {
      "text/plain": [
       "LogisticRegression(C=1.0, class_weight=None, dual=False, fit_intercept=True,\n",
       "          intercept_scaling=1, max_iter=100, multi_class='ovr', n_jobs=1,\n",
       "          penalty='l2', random_state=None, solver='liblinear', tol=0.0001,\n",
       "          verbose=0, warm_start=False)"
      ]
     },
     "execution_count": 38,
     "metadata": {},
     "output_type": "execute_result"
    }
   ],
   "source": [
    "logit.fit(train_x, train_y)"
   ]
  },
  {
   "cell_type": "code",
   "execution_count": 39,
   "metadata": {},
   "outputs": [
    {
     "data": {
      "text/plain": [
       "array([0.61800391, 0.628426  , 0.60712887])"
      ]
     },
     "execution_count": 39,
     "metadata": {},
     "output_type": "execute_result"
    }
   ],
   "source": [
    "cross_val_score(estimator = logit,X=train_x,y=train_y,cv=3,n_jobs=-1)"
   ]
  },
  {
   "cell_type": "code",
   "execution_count": 40,
   "metadata": {},
   "outputs": [
    {
     "data": {
      "text/plain": [
       "3284"
      ]
     },
     "execution_count": 40,
     "metadata": {},
     "output_type": "execute_result"
    }
   ],
   "source": [
    "c = logit.predict(test_x)\n",
    "len(c)\n"
   ]
  },
  {
   "cell_type": "code",
   "execution_count": 41,
   "metadata": {},
   "outputs": [
    {
     "data": {
      "text/plain": [
       "(0.6221956326652707, 0.6154080389768575, 0.23103568719145517)"
      ]
     },
     "execution_count": 41,
     "metadata": {},
     "output_type": "execute_result"
    }
   ],
   "source": [
    "f1_score(c,test_y), accuracy_score(c,test_y),cohen_kappa_score(c,test_y)"
   ]
  },
  {
   "cell_type": "code",
   "execution_count": 42,
   "metadata": {},
   "outputs": [
    {
     "data": {
      "text/plain": [
       "array([[ 981,  591],\n",
       "       [ 672, 1040]], dtype=int64)"
      ]
     },
     "execution_count": 42,
     "metadata": {},
     "output_type": "execute_result"
    }
   ],
   "source": [
    "confusion_matrix(c,test_y)"
   ]
  },
  {
   "cell_type": "code",
   "execution_count": 60,
   "metadata": {},
   "outputs": [],
   "source": [
    "test_new = upsampled_test.iloc[:,feature_index]\n",
    "test_new = test_new.iloc[:,1:]"
   ]
  },
  {
   "cell_type": "code",
   "execution_count": 44,
   "metadata": {},
   "outputs": [],
   "source": [
    "c= logit.predict(test_new)"
   ]
  },
  {
   "cell_type": "code",
   "execution_count": 45,
   "metadata": {},
   "outputs": [
    {
     "data": {
      "text/plain": [
       "array([[2229, 1411],\n",
       "       [1532, 2350]], dtype=int64)"
      ]
     },
     "execution_count": 45,
     "metadata": {},
     "output_type": "execute_result"
    }
   ],
   "source": [
    "confusion_matrix(c,upsampled_test.iloc[:,86])"
   ]
  },
  {
   "cell_type": "code",
   "execution_count": 46,
   "metadata": {},
   "outputs": [],
   "source": [
    "from sklearn.ensemble import RandomForestClassifier"
   ]
  },
  {
   "cell_type": "code",
   "execution_count": 47,
   "metadata": {},
   "outputs": [],
   "source": [
    "rf = RandomForestClassifier()"
   ]
  },
  {
   "cell_type": "code",
   "execution_count": 48,
   "metadata": {},
   "outputs": [
    {
     "data": {
      "text/plain": [
       "RandomForestClassifier(bootstrap=True, class_weight=None, criterion='gini',\n",
       "            max_depth=None, max_features='auto', max_leaf_nodes=None,\n",
       "            min_impurity_decrease=0.0, min_impurity_split=None,\n",
       "            min_samples_leaf=1, min_samples_split=2,\n",
       "            min_weight_fraction_leaf=0.0, n_estimators=10, n_jobs=1,\n",
       "            oob_score=False, random_state=None, verbose=0,\n",
       "            warm_start=False)"
      ]
     },
     "execution_count": 48,
     "metadata": {},
     "output_type": "execute_result"
    }
   ],
   "source": [
    "rf.fit(train_x, train_y)"
   ]
  },
  {
   "cell_type": "code",
   "execution_count": 49,
   "metadata": {},
   "outputs": [
    {
     "data": {
      "text/plain": [
       "array([0.86966732, 0.87196554, 0.87230709])"
      ]
     },
     "execution_count": 49,
     "metadata": {},
     "output_type": "execute_result"
    }
   ],
   "source": [
    "cross_val_score(estimator = rf,X=train_x,y=train_y,cv=3,n_jobs=-1)"
   ]
  },
  {
   "cell_type": "code",
   "execution_count": 51,
   "metadata": {},
   "outputs": [],
   "source": [
    "c = rf.predict(test_x)"
   ]
  },
  {
   "cell_type": "code",
   "execution_count": 52,
   "metadata": {},
   "outputs": [
    {
     "data": {
      "text/plain": [
       "(0.746921980528755, 0.8733252131546894, 0.8823529411764707)"
      ]
     },
     "execution_count": 52,
     "metadata": {},
     "output_type": "execute_result"
    }
   ],
   "source": [
    "cohen_kappa_score(test_y,c),accuracy_score(test_y,c),f1_score(test_y,c)"
   ]
  },
  {
   "cell_type": "code",
   "execution_count": 53,
   "metadata": {},
   "outputs": [
    {
     "data": {
      "text/plain": [
       "array([[1308,   71],\n",
       "       [ 345, 1560]], dtype=int64)"
      ]
     },
     "execution_count": 53,
     "metadata": {},
     "output_type": "execute_result"
    }
   ],
   "source": [
    "confusion_matrix(c,test_y)"
   ]
  },
  {
   "cell_type": "code",
   "execution_count": 61,
   "metadata": {},
   "outputs": [],
   "source": [
    "c = rf.predict(test_new)"
   ]
  },
  {
   "cell_type": "code",
   "execution_count": 62,
   "metadata": {},
   "outputs": [
    {
     "data": {
      "text/plain": [
       "0.8790215368253124"
      ]
     },
     "execution_count": 62,
     "metadata": {},
     "output_type": "execute_result"
    }
   ],
   "source": [
    "accuracy_score(c,upsampled_test.iloc[:,86])"
   ]
  },
  {
   "cell_type": "code",
   "execution_count": 64,
   "metadata": {},
   "outputs": [
    {
     "data": {
      "text/plain": [
       "0.8890243902439025"
      ]
     },
     "execution_count": 64,
     "metadata": {},
     "output_type": "execute_result"
    }
   ],
   "source": [
    "f1_score(c,upsampled_test.iloc[:,86])"
   ]
  },
  {
   "cell_type": "code",
   "execution_count": null,
   "metadata": {},
   "outputs": [],
   "source": []
  }
 ],
 "metadata": {
  "kernelspec": {
   "display_name": "Python 3",
   "language": "python",
   "name": "python3"
  },
  "language_info": {
   "codemirror_mode": {
    "name": "ipython",
    "version": 3
   },
   "file_extension": ".py",
   "mimetype": "text/x-python",
   "name": "python",
   "nbconvert_exporter": "python",
   "pygments_lexer": "ipython3",
   "version": "3.6.5"
  }
 },
 "nbformat": 4,
 "nbformat_minor": 2
}
